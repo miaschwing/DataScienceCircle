{
 "cells": [
  {
   "cell_type": "markdown",
   "id": "6c3185d4-31a8-48dc-8db2-c12adaf094e2",
   "metadata": {},
   "source": [
    "# Data Circle Notebook 4"
   ]
  },
  {
   "cell_type": "markdown",
   "id": "508eff64-895c-4e6b-9c3a-95de328d8889",
   "metadata": {},
   "source": [
    "This notebook will introduce other graphs you can use from other libraries. Specifically, this notebook will provide graph examples from **seaborn**"
   ]
  },
  {
   "cell_type": "code",
   "execution_count": null,
   "id": "ded43f72-f70a-451e-9f5b-f967d44cba01",
   "metadata": {},
   "outputs": [],
   "source": [
    "import pandas as pd"
   ]
  },
  {
   "cell_type": "code",
   "execution_count": null,
   "id": "2bc11c6e-6717-48e3-b2fe-46d8ba26cee2",
   "metadata": {},
   "outputs": [],
   "source": [
    "df= pd.read_csv(\"PittsTrees.csv\")"
   ]
  },
  {
   "cell_type": "markdown",
   "id": "02a5fa75-272e-496d-bba7-f45fb2817f19",
   "metadata": {},
   "source": [
    "## First start by importing seaborn\n",
    "\n",
    "The website with functions is avalible here:\n",
    "https://seaborn.pydata.org/generated/seaborn.objects.Plot.html\n",
    "\n",
    "If importing it using the line below gives you troup"
   ]
  },
  {
   "cell_type": "code",
   "execution_count": null,
   "id": "531688c6-7e16-4059-b864-1040962eb5c3",
   "metadata": {},
   "outputs": [],
   "source": [
    "import seaborn as sns "
   ]
  },
  {
   "cell_type": "markdown",
   "id": "39b563e2-edd1-4025-8f6a-b23a93d15159",
   "metadata": {},
   "source": [
    "## Step 1: decide what columns you would like to use!"
   ]
  },
  {
   "cell_type": "code",
   "execution_count": null,
   "id": "94b9cea3-49df-496f-a01f-ba02cdd252e2",
   "metadata": {},
   "outputs": [],
   "source": [
    "df.columns"
   ]
  },
  {
   "cell_type": "markdown",
   "id": "e3ccb552-f32c-421d-9613-1f45ff3dc3ad",
   "metadata": {},
   "source": [
    "## Step 2: Make a mini data frame"
   ]
  },
  {
   "cell_type": "code",
   "execution_count": null,
   "id": "2d79f363-3683-4387-b0e5-849deb631e0f",
   "metadata": {},
   "outputs": [],
   "source": [
    "quality_trees = df[['common_name', 'growth_space_type','air_quality_benfits_total_dollar_value']]\n",
    "quality_trees"
   ]
  },
  {
   "cell_type": "markdown",
   "id": "52da0260-a2dd-45db-844d-357cf441a5d6",
   "metadata": {},
   "source": [
    "## Step 3: if you need, make more changes to your dataframe\n",
    "For my graphs, I want to look at the distributions of air quality benefits for the top 8 most planted trees.\n",
    "\n",
    "To do this I need to first get the list of the top 8 most planted trees (tree_types) and then have only those 8 trees be included in my new data frame."
   ]
  },
  {
   "cell_type": "code",
   "execution_count": null,
   "id": "d0337ed8-8198-4040-83fe-8d41365a1b3d",
   "metadata": {},
   "outputs": [],
   "source": [
    "tree_types = df[['common_name', 'id']].groupby('common_name').count().sort_values('id', ascending = False).iloc[0:8].reset_index().iloc[:,0]\n",
    "tree_types"
   ]
  },
  {
   "cell_type": "code",
   "execution_count": null,
   "id": "8f0d684f-0d22-4e80-89cd-d1cf2cb20faa",
   "metadata": {},
   "outputs": [],
   "source": [
    "quality_trees = quality_trees[quality_trees['common_name'].isin(tree_types)].dropna()\n",
    "quality_trees"
   ]
  },
  {
   "cell_type": "markdown",
   "id": "a005d56d-15d7-4851-bb95-7497726ceaa5",
   "metadata": {},
   "source": [
    "## Step 4: Graph time!!\n",
    "Here we are using the **seaborn violin plot** which allows us to compare distributions of different variables on the same graph. (https://seaborn.pydata.org/generated/seaborn.violinplot.html)\n",
    "\n",
    "My graph could be used to see out of the top 8 trees which ones have the largest probability of supplying high air quality benefits. This information could be helpful in deciding which trees to plant more of. "
   ]
  },
  {
   "cell_type": "code",
   "execution_count": null,
   "id": "c6425fb6-efbf-43fe-b4da-aec40c31b281",
   "metadata": {},
   "outputs": [],
   "source": [
    "sns.violinplot(data = quality_trees, x = 'air_quality_benfits_total_dollar_value', y = 'common_name')"
   ]
  },
  {
   "cell_type": "markdown",
   "id": "7f64ee16-59a2-49fe-b2b7-ebbdbdba7333",
   "metadata": {},
   "source": [
    "# Another graph example\n",
    "Here is another useful seaborn plot: a **heatmap** (https://seaborn.pydata.org/generated/seaborn.heatmap.html)\n",
    "\n",
    "- It is useful for showing correlations between 2 different variables with a value measured in common. \n",
    "\n",
    "I am using a heatmap in this example to look at the resulting air quality benefits from the correlations in combinations of tree type and it's growth space type. This could help look at what combinations provide the highest air quality benefits. \n",
    "\n",
    "To start, I find the top most popular growth space types and then apply that to my new data frame."
   ]
  },
  {
   "cell_type": "code",
   "execution_count": null,
   "id": "82d34760-aa5c-481d-8a6a-97fd5cd1a48a",
   "metadata": {},
   "outputs": [],
   "source": [
    "space_types = df[['growth_space_type', 'id']].groupby('growth_space_type').count().sort_values('id', ascending = False).iloc[0:5].reset_index().iloc[:,0]\n",
    "space_types"
   ]
  },
  {
   "cell_type": "code",
   "execution_count": null,
   "id": "75940bb6-a681-4a03-9d26-815d5047f9c5",
   "metadata": {},
   "outputs": [],
   "source": [
    "quality_trees = quality_trees[quality_trees['growth_space_type'].isin(space_types)]\n",
    "quality_trees"
   ]
  },
  {
   "cell_type": "markdown",
   "id": "0dac904f-fb8a-4101-b463-32ecc0f7cd6e",
   "metadata": {},
   "source": [
    " For heatmaps, you usually have to use groupby and pivot to get your data frame in the right format for the heatmap plot function."
   ]
  },
  {
   "cell_type": "code",
   "execution_count": null,
   "id": "e8ad8ad1-aa5e-4d57-869e-f6975a53090e",
   "metadata": {},
   "outputs": [],
   "source": [
    "heatmap_trees = quality_trees.groupby(['common_name', 'growth_space_type']).sum().reset_index()\n",
    "heatmap_trees"
   ]
  },
  {
   "cell_type": "code",
   "execution_count": null,
   "id": "7a3ca91b-4308-4d23-b1d3-22aec40a1fef",
   "metadata": {},
   "outputs": [],
   "source": [
    "heatmap_trees = heatmap_trees.pivot(values = 'air_quality_benfits_total_dollar_value', \n",
    "                                    columns = 'common_name', index = 'growth_space_type')\n",
    "heatmap_trees"
   ]
  },
  {
   "cell_type": "markdown",
   "id": "c5fe238e-a242-4fc2-85ad-7f602d67bc3e",
   "metadata": {},
   "source": [
    "## Graph time pt. 2 yay!!\n",
    "Notice how heatmaps are just a color representation of what is shown in the table above.\n",
    "\n",
    "An example of a conclusion you could make from this graph is 'Open or Unrestricted' space types provides the largest variety of air quality benifits across all trees. Or you could also say that we might want to plant more London Planetrees in tree lawns or parkways because that combination produces the highest overall air quality benifits. "
   ]
  },
  {
   "cell_type": "code",
   "execution_count": null,
   "id": "7612ad93-7b31-404e-886c-4052d3fcbce7",
   "metadata": {},
   "outputs": [],
   "source": [
    "sns.heatmap(heatmap_trees)"
   ]
  },
  {
   "cell_type": "markdown",
   "id": "32d8420c-4d7f-42cc-bb9b-1bd313c85212",
   "metadata": {},
   "source": [
    "## Now try it with your own dataset!\n",
    "Check out more of their cool graphs here: https://seaborn.pydata.org/generated/seaborn.objects.Plot.html\n",
    "\n",
    "If you are really loving graphs this is just the beginning, there are many more libraries where you can find more graph functions such as **Matplotlib**, **Plotly**, or **Geopandas**. We probably won't go into those unless you ask specifically for your project!"
   ]
  }
 ],
 "metadata": {
  "kernelspec": {
   "display_name": "Python 3 (ipykernel)",
   "language": "python",
   "name": "python3"
  },
  "language_info": {
   "codemirror_mode": {
    "name": "ipython",
    "version": 3
   },
   "file_extension": ".py",
   "mimetype": "text/x-python",
   "name": "python",
   "nbconvert_exporter": "python",
   "pygments_lexer": "ipython3",
   "version": "3.11.10"
  }
 },
 "nbformat": 4,
 "nbformat_minor": 5
}
