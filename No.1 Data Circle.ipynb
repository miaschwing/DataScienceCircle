{
 "cells": [
  {
   "cell_type": "markdown",
   "id": "b2e6b5d4-f01d-4118-88b4-ab8a568e21f8",
   "metadata": {},
   "source": [
    "# Data Circle Notebook 1"
   ]
  },
  {
   "cell_type": "markdown",
   "id": "8f0be099-aea1-4e65-a0ae-f964bd717656",
   "metadata": {},
   "source": [
    "This notebook is to introduce JupyterHub through getting practice doing some maths and simple functions."
   ]
  },
  {
   "cell_type": "markdown",
   "id": "9e365f18-43ac-49b4-88f3-24f38275198c",
   "metadata": {},
   "source": [
    "## What is JupyterHub? ##\n",
    "There are many platforms, such as JupyterHub, that one can use to run code and analyze data. This is a JupyterHub Notebook which you can think of as a physical notebook but on your computer and allows you to write your own code.\n",
    "\n",
    "The long gray box below is called a \"cell\", where you will write code and run it. To run your code you press \"shift\" & \"enter\" at the same time. \n",
    "\n",
    "Try this below by clicking on the grey box and typing **\"hello world\"** (with the quotation marks) and then press \"shift\" & \"enter\""
   ]
  },
  {
   "cell_type": "code",
   "execution_count": null,
   "id": "305e15f4-5b8a-4f2e-b6f9-cea7dd05eec0",
   "metadata": {},
   "outputs": [],
   "source": []
  },
  {
   "cell_type": "markdown",
   "id": "f44ac7c6-e9cb-4271-8d26-2d06899bd9a8",
   "metadata": {},
   "source": [
    "Yay!! You ran your first cell. The 'hello world' that is now displayed under your cell is called your output. In this case we just printed words. Below we will start working with the computer doing Math.\n",
    "\n",
    "## Starting with some Math :) ##\n",
    "\n",
    "### Expressions ###\n",
    "\n",
    "An **expression** is a piece of code that:\n",
    "\n",
    "* is self-contained, meaning it would make sense to write it on a line by itself, and\n",
    "* usually evaluates to a value.\n",
    "\n",
    "\n",
    "Here are two expressions that both evaluate to 3:"
   ]
  },
  {
   "cell_type": "code",
   "execution_count": 3,
   "id": "d858e449-de33-4268-a618-68ca14be2f81",
   "metadata": {},
   "outputs": [
    {
     "data": {
      "text/plain": [
       "3"
      ]
     },
     "execution_count": 3,
     "metadata": {},
     "output_type": "execute_result"
    }
   ],
   "source": [
    "3"
   ]
  },
  {
   "cell_type": "code",
   "execution_count": 4,
   "id": "f2d3022e-8262-4bec-be33-2d4345b453f8",
   "metadata": {},
   "outputs": [
    {
     "data": {
      "text/plain": [
       "3"
      ]
     },
     "execution_count": 4,
     "metadata": {},
     "output_type": "execute_result"
    }
   ],
   "source": [
    "5-2"
   ]
  },
  {
   "cell_type": "markdown",
   "id": "d82e697b-0c66-47a5-aee4-dd4ee4139289",
   "metadata": {},
   "source": [
    "Write your own expression in the cell below! Use + (add), / (divide), * (multiply), or find out what ** does"
   ]
  },
  {
   "cell_type": "code",
   "execution_count": null,
   "id": "5f44fbe7-9fba-4432-8d56-54d814672122",
   "metadata": {},
   "outputs": [],
   "source": []
  },
  {
   "cell_type": "markdown",
   "id": "1026b465-fef1-46f7-9803-59ef4e8f0dc9",
   "metadata": {},
   "source": [
    "### Variables ###\n",
    "Variables are when you assign a value to a letter or word. This is similar to how in algebra you could say x = 5 and y = 2 then you have that x-y=3\n",
    "\n",
    "Lets try this in code. Assign the variables x and y below to 5 and 2 "
   ]
  },
  {
   "cell_type": "code",
   "execution_count": 2,
   "id": "8669d515-9944-4c20-80f4-9b61b9f8dfdf",
   "metadata": {},
   "outputs": [
    {
     "ename": "SyntaxError",
     "evalue": "invalid syntax (1658542763.py, line 1)",
     "output_type": "error",
     "traceback": [
      "\u001b[0;36m  Cell \u001b[0;32mIn[2], line 1\u001b[0;36m\u001b[0m\n\u001b[0;31m    x=\u001b[0m\n\u001b[0m       ^\u001b[0m\n\u001b[0;31mSyntaxError\u001b[0m\u001b[0;31m:\u001b[0m invalid syntax\n"
     ]
    }
   ],
   "source": [
    "x= \n",
    "y= \n",
    "x-y"
   ]
  },
  {
   "cell_type": "markdown",
   "id": "c63f3fb7-84e2-40ef-94ef-32d65e747935",
   "metadata": {},
   "source": [
    "Variables can also have fun names. My example is below but feel free try out other varible names and values"
   ]
  },
  {
   "cell_type": "code",
   "execution_count": 6,
   "id": "be1a81bb-f8e6-40b1-bcc0-9db1b48143ac",
   "metadata": {},
   "outputs": [
    {
     "data": {
      "text/plain": [
       "0"
      ]
     },
     "execution_count": 6,
     "metadata": {},
     "output_type": "execute_result"
    }
   ],
   "source": [
    "cookies = 10\n",
    "cookie_monster = 9\n",
    "mia = 1\n",
    "total_cookies = cookies - cookie_monster - mia\n",
    "total_cookies"
   ]
  },
  {
   "cell_type": "markdown",
   "id": "0a00b551-8b3d-47c1-97e5-c7e01fc0a5f6",
   "metadata": {},
   "source": [
    "### Functions ###\n",
    "\n",
    "Functions in code work similar to functions in math where you have an equation and values. \n",
    "\n",
    "For example in math you would have f(x) = |x| and if x = -3 then f(-3) = 3. This is what it looks like in code:"
   ]
  },
  {
   "cell_type": "code",
   "execution_count": 7,
   "id": "68714af1-d53b-4992-bc4e-dfdc3cebd34b",
   "metadata": {},
   "outputs": [
    {
     "data": {
      "text/plain": [
       "3"
      ]
     },
     "execution_count": 7,
     "metadata": {},
     "output_type": "execute_result"
    }
   ],
   "source": [
    "x=-3\n",
    "abs(x)"
   ]
  },
  {
   "cell_type": "markdown",
   "id": "ba716005-bab0-41ce-9334-968e3177bbfe",
   "metadata": {},
   "source": [
    "Abs() is like f() but instead of f it is named as abs so you as the user know what the function is doing. Then x is called an \"argument\" and arguments are placed in the parenthesis after the function name.\n",
    "\n",
    "Think of it as:\n",
    "\n",
    "        func ( arg )\n",
    "                            \n",
    "* func: what are you doing?\n",
    "* arg: what values are you using?\n",
    "\n",
    "Some functions take in multiple arguments. When you have multiple arguments you separate them with a comma.\n",
    "\n",
    "        func ( arg, arg)\n",
    "\n",
    "For example, the function min() which can find the minimum in all of the arguments you give it"
   ]
  },
  {
   "cell_type": "code",
   "execution_count": 8,
   "id": "cc8440d8-3ae8-48ca-901b-e4d60078b56c",
   "metadata": {},
   "outputs": [
    {
     "data": {
      "text/plain": [
       "4"
      ]
     },
     "execution_count": 8,
     "metadata": {},
     "output_type": "execute_result"
    }
   ],
   "source": [
    "min(4,7,15)"
   ]
  },
  {
   "cell_type": "markdown",
   "id": "f9298413-ec3b-4964-995a-c64bb37d2592",
   "metadata": {},
   "source": [
    "Here are some common functions you can use for doing math:\n",
    "\n",
    "| Function | Description                                                   |\n",
    "|----------|---------------------------------------------------------------|\n",
    "| `abs`      | Returns the absolute value of its argument                    |\n",
    "| `max`      | Returns the maximum of all its arguments                      |\n",
    "| `min`      | Returns the minimum of all its arguments                      |\n",
    "| `pow`      | Raises its first argument to the power of its second argument |\n",
    "| `round`    | Rounds its argument to the nearest integer                     |\n",
    "\n",
    "\n",
    "You can even use functions inside functions!\n",
    "\n",
    "Give it a try by assigning the name `new_year` to the **larger number** among the following two numbers:\n",
    "\n",
    "* the **absolute value** of $2^{6}-2^{11}-2^{5} - 7$, and \n",
    "* $5 \\times 13 \\times 31 + 7$.\n",
    "\n",
    "Try to use just one statement (one line of code)"
   ]
  },
  {
   "cell_type": "code",
   "execution_count": 3,
   "id": "4a8c687e-5e08-46c7-9ccc-64dec132fadb",
   "metadata": {},
   "outputs": [
    {
     "ename": "SyntaxError",
     "evalue": "invalid syntax (903226241.py, line 1)",
     "output_type": "error",
     "traceback": [
      "\u001b[0;36m  Cell \u001b[0;32mIn[3], line 1\u001b[0;36m\u001b[0m\n\u001b[0;31m    new_year =\u001b[0m\n\u001b[0m               ^\u001b[0m\n\u001b[0;31mSyntaxError\u001b[0m\u001b[0;31m:\u001b[0m invalid syntax\n"
     ]
    }
   ],
   "source": [
    "new_year = \n",
    "new_year"
   ]
  },
  {
   "cell_type": "markdown",
   "id": "3cbb4396-d5ea-48f6-aea0-c7cfe78aacd4",
   "metadata": {},
   "source": [
    "## Homework\n",
    "Before our meeting next week make sure you have found a dataset you would like to analyze for your project this semester!!"
   ]
  }
 ],
 "metadata": {
  "kernelspec": {
   "display_name": "Python 3 (ipykernel)",
   "language": "python",
   "name": "python3"
  },
  "language_info": {
   "codemirror_mode": {
    "name": "ipython",
    "version": 3
   },
   "file_extension": ".py",
   "mimetype": "text/x-python",
   "name": "python",
   "nbconvert_exporter": "python",
   "pygments_lexer": "ipython3",
   "version": "3.11.10"
  }
 },
 "nbformat": 4,
 "nbformat_minor": 5
}
