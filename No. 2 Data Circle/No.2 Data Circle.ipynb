{
 "cells": [
  {
   "cell_type": "markdown",
   "id": "8636f5d7-0537-4705-8821-1721c5080565",
   "metadata": {},
   "source": [
    "# Data Circle Notebook 2 \n",
    "\n",
    "This notebook will introduce Pandas and beginning table **functions** to start exploring your own dataset\n",
    "\n",
    "## What is a Library? \n",
    "A library is a collection of pre-written code with functions so you do not have to write the code yourself. Think of it as a digital library where each of the books in the library is a function. By uploading a library to your JupyterHub notebook, you give your notebook all of the 'knowledge' (functions) in that library so that your code can be simplified. \n",
    "\n",
    "**Pandas** is the library we will be using in Data Circle and is a common library used for data science. If you were in Data 8, you used the Data 8 Library, a simplified version of the Pandas library. \n",
    "\n",
    "Below you will practice using some pandas functions to evaluate datasets.\n",
    "\n",
    "## Importing a Library\n",
    "Importing a library means we are adding the knowledge (functions) of this library to this notebook so that we can use that library's functions. You do this by running the cell below. \n",
    "\n",
    "You will need to write this line at the top of your own notebook when you begin working with your dataset."
   ]
  },
  {
   "cell_type": "code",
   "execution_count": null,
   "id": "aece1819-6f8f-41cd-a3d4-8eedb58e1fdb",
   "metadata": {},
   "outputs": [],
   "source": [
    "import pandas as pd"
   ]
  },
  {
   "cell_type": "markdown",
   "id": "f7a03ad8-2a5f-4cd5-9912-bba8bb9bbfad",
   "metadata": {},
   "source": [
    "## Uploading Your Data Set \n",
    "When uploading your dataset you will need to clarify that you want to use the pandas library on that dataset when you upload it. To do this you assign the line **pd.read_csv(\"name_of_dataset\")** to a variable with any name you want, here I chose df.\n",
    "\n",
    "Notice the line of code starts with 'pd.' this is referring to pandas because above we imported pandas as pd, then we use the read_csv function to upload the dataset."
   ]
  },
  {
   "cell_type": "code",
   "execution_count": null,
   "id": "fbdbaa33-10cd-4620-979e-29a10ed8dd33",
   "metadata": {},
   "outputs": [],
   "source": [
    "df= pd.read_csv(\"sentimentdataset.csv\")\n",
    "df"
   ]
  },
  {
   "cell_type": "markdown",
   "id": "2b580a1f-4a97-4a95-a251-dec239da4a5c",
   "metadata": {},
   "source": [
    "## Pandas Functions\n",
    "There are sooooooo many functions in the pandas library and you can check them all out at this link: https://pandas.pydata.org/docs/reference/frame.html\n",
    "\n",
    "I will show examples of how some work below. Make sure you try out each of these functions on your own dataset and try at least one new one from the link above. \n",
    "\n",
    "### Shape\n",
    "The shape function tells you how many (rows, columns) there are. Notice that there are no parentheses because there are no arguments needed for this function. "
   ]
  },
  {
   "cell_type": "code",
   "execution_count": null,
   "id": "07b891a7-f1e6-42e0-87e2-c1c7765b774c",
   "metadata": {},
   "outputs": [],
   "source": []
  },
  {
   "cell_type": "markdown",
   "id": "68eeaa60-f942-45cf-b877-c2012236b003",
   "metadata": {},
   "source": [
    "### Columns\n",
    "The columns function shows you a list of all of the column labels in your dataset"
   ]
  },
  {
   "cell_type": "code",
   "execution_count": null,
   "id": "2ffa93cd-f584-4079-b29e-4856ca8fd3af",
   "metadata": {},
   "outputs": [],
   "source": []
  },
  {
   "cell_type": "markdown",
   "id": "e72d9bac-af69-4902-afe5-f9f99dd4e936",
   "metadata": {},
   "source": [
    "### Selecting Columns\n",
    "To select columns you use the double-bracket method. To do this you write **name_of_dataset[['name_of_column_you_want_to_select']]** \n",
    "\n",
    "If you want more than one column you put a comma in between and make sure each individual column name is in quotation marks."
   ]
  },
  {
   "cell_type": "code",
   "execution_count": null,
   "id": "dc3a756e-a9f6-4bdd-9cbb-c7e9e801950f",
   "metadata": {},
   "outputs": [],
   "source": []
  },
  {
   "cell_type": "markdown",
   "id": "7ce2fed3-392b-4223-8f85-0e1629631c50",
   "metadata": {},
   "source": [
    "The output above is called a dataframe. If you want to keep it and do more analysis/changes to it you need to assign it to a variable. When you do this you need to write the name of the new dataframe on the next line so that it gets displayed.\n",
    "\n",
    "For example, here I run the same line but make it equal to retweets_df."
   ]
  },
  {
   "cell_type": "code",
   "execution_count": null,
   "id": "0b4016ac-8dd7-4d98-b6b7-f4f43e8f271f",
   "metadata": {},
   "outputs": [],
   "source": [
    "retweets_df = \n",
    "retweets_df"
   ]
  },
  {
   "cell_type": "markdown",
   "id": "576d3071-b8df-4c60-97b8-8f2ae9ae8ece",
   "metadata": {},
   "source": [
    "### Drop\n",
    "If you want to drop a column from your dataset you can use the .drop function. In the parentheses you will see the argument for this function needs a clarification if you want to drop a column or a row and under what name or index."
   ]
  },
  {
   "cell_type": "code",
   "execution_count": 3,
   "id": "8ae35fdc-a5d6-4ca0-a4b5-aac29dc3c922",
   "metadata": {},
   "outputs": [],
   "source": [
    "retweets_df = \n",
    "retweets_df"
   ]
  },
  {
   "cell_type": "markdown",
   "id": "21d4826b-b5c1-4ba2-8382-6dc7dea1a192",
   "metadata": {},
   "source": [
    "### Sort Values\n",
    "If you want to sort values in a row in a specific order you can use sort_values. It arguments take in first the name of the column you would like to be sorted and then you clarify if you would like it to be ascending or decending. "
   ]
  },
  {
   "cell_type": "code",
   "execution_count": null,
   "id": "3c84eac6-c9d5-4f66-beb8-0bb2e314c5c2",
   "metadata": {},
   "outputs": [],
   "source": [
    "retweets_df = \n",
    "retweets_df"
   ]
  },
  {
   "cell_type": "markdown",
   "id": "639fa7ad-3c13-40d2-a5ab-755d5794d46a",
   "metadata": {},
   "source": [
    "### Editing Rows\n",
    "If you want to only have rows that fullfill a certian criteria then you use a similar method to the bracket method shown above. Here the format works like this: \n",
    "\n",
    "**name_of_dataset[name_of_dataset['column_you_want_to_apply_criteria_to'] > some_value]**\n",
    "\n",
    "In place of the > you can also use <, =>, =<, or == (must use double equals to express equals because coding is silly)"
   ]
  },
  {
   "cell_type": "code",
   "execution_count": null,
   "id": "b5e88402-6c5b-4e8c-85ab-d3eb8fde20bc",
   "metadata": {},
   "outputs": [],
   "source": [
    "retweets_df = \n",
    "retweets_df"
   ]
  },
  {
   "cell_type": "markdown",
   "id": "0fb171e1-ba90-4da8-9a07-39a724a76b2d",
   "metadata": {},
   "source": [
    "### Groupby (aka your best friend)\n",
    "This is the groupby function which you can use if you want to group by a catagory in a column. \n",
    "\n",
    "In this example, I chose to groupby the 'Platform' column and count how many of each category exist. I am applying this function to the **retweets_df** data frame so the table below demonstrates how many retweets accured per each platform on posts that got over 30 likes.\n",
    "\n",
    "The groupby always needs the 'buddy' function behind it so it knows what to do when each of the catagories are grouped. The buddy function in this example is the .count() function. \n",
    "\n",
    "You can check the other buddy functions out here: https://pandas.pydata.org/docs/reference/api/pandas.DataFrame.groupby.html"
   ]
  },
  {
   "cell_type": "code",
   "execution_count": null,
   "id": "b0e8d118-c84b-4033-9f72-7dc25da16148",
   "metadata": {},
   "outputs": [],
   "source": [
    "retweets_df = \n",
    "retweets_df"
   ]
  },
  {
   "cell_type": "markdown",
   "id": "24bf3f65-b1aa-42bb-87c1-d606d00d3c9c",
   "metadata": {},
   "source": [
    "## Find your own!\n",
    "Now find one more function to try out on your dataset. Look through this link that has all of the functions I listed above and more: https://pandas.pydata.org/docs/reference/frame.html\n",
    "\n",
    "This link contains a lot of information so if you are having trouble understanding what each page says try finding one of the functions I showed below and look at how they describe it and show their examples. "
   ]
  },
  {
   "cell_type": "code",
   "execution_count": null,
   "id": "6cf253d9-0539-499b-a932-b1e08a942a10",
   "metadata": {},
   "outputs": [],
   "source": []
  }
 ],
 "metadata": {
  "kernelspec": {
   "display_name": "Python 3 (ipykernel)",
   "language": "python",
   "name": "python3"
  },
  "language_info": {
   "codemirror_mode": {
    "name": "ipython",
    "version": 3
   },
   "file_extension": ".py",
   "mimetype": "text/x-python",
   "name": "python",
   "nbconvert_exporter": "python",
   "pygments_lexer": "ipython3",
   "version": "3.11.10"
  }
 },
 "nbformat": 4,
 "nbformat_minor": 5
}
