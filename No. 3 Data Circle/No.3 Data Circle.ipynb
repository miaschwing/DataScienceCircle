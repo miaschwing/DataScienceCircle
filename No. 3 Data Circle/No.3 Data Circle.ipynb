{
 "cells": [
  {
   "cell_type": "markdown",
   "id": "0fe1c222-1867-499b-97a4-d3c24e483b4a",
   "metadata": {},
   "source": [
    "# Data Circle Notebook 3"
   ]
  },
  {
   "cell_type": "markdown",
   "id": "f923f667-10a5-4d78-a4a5-3bba4a2f8f53",
   "metadata": {},
   "source": [
    "This notebook will introduce how we make **visualizations and graphs** using Pandas\n",
    "\n",
    "Don't forget about importing the pandas library and importing your dataset:"
   ]
  },
  {
   "cell_type": "code",
   "execution_count": null,
   "id": "d5942d29-e714-4c71-a4ef-8b0ec16ea24a",
   "metadata": {},
   "outputs": [],
   "source": [
    "import pandas as pd"
   ]
  },
  {
   "cell_type": "code",
   "execution_count": null,
   "id": "752185b2-bcb0-413e-b2bf-45a2875b77e3",
   "metadata": {},
   "outputs": [],
   "source": [
    "df= pd.read_csv(\"PittsTrees.csv\")"
   ]
  },
  {
   "cell_type": "markdown",
   "id": "4452f82d-ec01-457f-a276-1b93763deee2",
   "metadata": {},
   "source": [
    "## Starting with only using 2 variables\n",
    "When creating graphs there are so so so many different graphs you can create with different information. We will start simply by using only 2 variables to create a line graph. I recommend having one of your variables be **time** so you have a graph of something occurring over time.\n",
    "\n",
    "I will show an example below using a dataframe on trees in Pittsburgh (https://data.wprdc.org/dataset/city-trees), you should follow along with your own dataset to create your own graph!"
   ]
  },
  {
   "cell_type": "code",
   "execution_count": null,
   "id": "9e0fab43-dc40-4146-a47f-3b0e55ef0b84",
   "metadata": {},
   "outputs": [],
   "source": [
    "df"
   ]
  },
  {
   "cell_type": "markdown",
   "id": "e6b43ff1-46e2-4233-b054-8ba0601c6911",
   "metadata": {},
   "source": [
    "## Step 1: decide what columns you would like to use!"
   ]
  },
  {
   "cell_type": "code",
   "execution_count": null,
   "id": "e237a68b-1a79-467d-9787-9d32215e10b9",
   "metadata": {},
   "outputs": [],
   "source": [
    "df.columns"
   ]
  },
  {
   "cell_type": "markdown",
   "id": "8a7be123-69d0-4e82-8b57-78eb3753323e",
   "metadata": {},
   "source": [
    "## Step 2: Make a mini dataframe\n",
    "Once you have decided make a smaller dataframe with all of the columns you will use! \n",
    "\n",
    "I decided to use the 3 columns below in order to compare the growth space of a tree vs. its dollar amount of air quality benefits. Don't forget to assign your new data frame to a variable name!"
   ]
  },
  {
   "cell_type": "code",
   "execution_count": null,
   "id": "602ab003-8919-4e3d-b0ef-9674e97f62c6",
   "metadata": {},
   "outputs": [],
   "source": [
    "trees = df[['common_name', 'growth_space_width', 'air_quality_benfits_total_dollar_value']]\n",
    "trees"
   ]
  },
  {
   "cell_type": "code",
   "execution_count": null,
   "id": "5ae36ddd-2031-4928-90d9-ea6916eb8fd9",
   "metadata": {},
   "outputs": [],
   "source": [
    "trees = trees.dropna()\n",
    "trees"
   ]
  },
  {
   "cell_type": "markdown",
   "id": "5dcf59be-b2dc-4c32-ba36-44d91bb1a4cb",
   "metadata": {},
   "source": [
    "## Step 3: if you need, make more changes to your dataframe\n",
    "I am deciding I just want to look at Red Maple trees."
   ]
  },
  {
   "cell_type": "code",
   "execution_count": null,
   "id": "f93a8aca-8f27-47e2-b441-4f9da3ae9b72",
   "metadata": {},
   "outputs": [],
   "source": [
    "trees = df[['common_name', 'growth_space_width', 'air_quality_benfits_total_dollar_value']]\n",
    "trees"
   ]
  },
  {
   "cell_type": "code",
   "execution_count": null,
   "id": "11f9cf24-3208-449e-89b1-c0fef07360ee",
   "metadata": {},
   "outputs": [],
   "source": [
    "maple_red = maple_red.drop(columns = 'common_name').groupby('growth_space_width').mean()\n",
    "maple_red"
   ]
  },
  {
   "cell_type": "markdown",
   "id": "59de84a5-60e4-4135-90df-46be39599504",
   "metadata": {},
   "source": [
    "## Step 4: Graph time!!\n"
   ]
  },
  {
   "cell_type": "code",
   "execution_count": null,
   "id": "523ffeda-98a0-4123-aa08-8d622de4aa33",
   "metadata": {},
   "outputs": [],
   "source": [
    "maple_red.plot()"
   ]
  },
  {
   "cell_type": "markdown",
   "id": "227cf995-1600-4b10-baec-7b2ef0029ea3",
   "metadata": {},
   "source": [
    "## Graphing with multiple variables\n",
    "What if I wanted compare multiple trees at once to see which one has the best quality benfits and small growth space?"
   ]
  },
  {
   "cell_type": "code",
   "execution_count": null,
   "id": "6d118862-abd1-4cd4-86bc-6db03643b8fe",
   "metadata": {},
   "outputs": [],
   "source": [
    "trees"
   ]
  },
  {
   "cell_type": "markdown",
   "id": "61fb4c76-ca3e-4151-99be-b7001b2c4730",
   "metadata": {},
   "source": [
    "## Step 1: Find which other variables you want to compare with\n",
    "I want to compare Red Maple trees with other popular trees in Pittsburgh. So lets find the top counted trees in this dataset. "
   ]
  },
  {
   "cell_type": "code",
   "execution_count": null,
   "id": "a282dbb2-4c27-4749-af47-178a6524dab4",
   "metadata": {},
   "outputs": [],
   "source": [
    "counted_trees = trees.groupby('common_name').count().sort_values('growth_space_width', ascending = False)\n",
    "counted_trees"
   ]
  },
  {
   "cell_type": "code",
   "execution_count": null,
   "id": "31aad907-cab4-4f83-bc30-34006ec07835",
   "metadata": {},
   "outputs": [],
   "source": [
    "top_3 = counted_trees[0:3].reset_index()['common_name']\n",
    "top_3"
   ]
  },
  {
   "cell_type": "markdown",
   "id": "6d8b41d7-065e-4e93-99ad-9f402755b27f",
   "metadata": {},
   "source": [
    "## Step 2: Moving things around with our friends groupby and pivot\n",
    "In order to have a graph with multiple lines you need each of those categories to be their own columns. To do this you often need to use groupby and or pivot. \n",
    "\n",
    "**Tip:** When doing this, think of the columns as each of the different lines on the graph, the index as the x-axis, and the values in the box as the y-axis. \n",
    "\n",
    "Below I will be using both groupby and pivot on my data frame to have a data frame that has columns for each of the tree types, an index of the growth space, and values of the dollar amount of air quality benefits. "
   ]
  },
  {
   "cell_type": "code",
   "execution_count": null,
   "id": "ec538814-a8ff-4700-972e-f515b7def277",
   "metadata": {},
   "outputs": [],
   "source": [
    "grouped_trees = trees.groupby(['common_name', 'growth_space_width']).mean().reset_index()\n",
    "grouped_trees"
   ]
  },
  {
   "cell_type": "code",
   "execution_count": null,
   "id": "b61e0694-f245-4cab-88b1-4a50b39278a9",
   "metadata": {},
   "outputs": [],
   "source": [
    "pivot_trees = grouped_trees.pivot(values = 'air_quality_benfits_total_dollar_value', \n",
    "                   columns = 'common_name', \n",
    "                    index = 'growth_space_width')\n",
    "pivot_trees"
   ]
  },
  {
   "cell_type": "markdown",
   "id": "0a752486-1c42-481a-a1cd-f428448bb36a",
   "metadata": {},
   "source": [
    "## Step 3: Grab the columns with the varibles you found in step 1"
   ]
  },
  {
   "cell_type": "code",
   "execution_count": null,
   "id": "b6fa7093-977f-4000-abc7-87130daf97ca",
   "metadata": {},
   "outputs": [],
   "source": [
    "top_3"
   ]
  },
  {
   "cell_type": "code",
   "execution_count": null,
   "id": "9e803555-53ad-44a5-9310-ecffba5d0e30",
   "metadata": {},
   "outputs": [],
   "source": [
    "top_trees = pivot_trees[top_3]\n",
    "top_trees"
   ]
  },
  {
   "cell_type": "code",
   "execution_count": null,
   "id": "076b00c8-ef98-434b-b50e-50f77e14b85b",
   "metadata": {},
   "outputs": [],
   "source": [
    "top_trees = top_trees.dropna()\n",
    "top_trees"
   ]
  },
  {
   "cell_type": "markdown",
   "id": "cab39f6f-9af1-4490-a0d3-6fe628f9c5b3",
   "metadata": {},
   "source": [
    "## Step 4: Graph time!!"
   ]
  },
  {
   "cell_type": "code",
   "execution_count": null,
   "id": "085b0526-41c6-43e8-83e9-54f5a1f18bfe",
   "metadata": {},
   "outputs": [],
   "source": [
    "top_trees.dropna().plot()"
   ]
  },
  {
   "cell_type": "markdown",
   "id": "4cc288da-37be-42e0-8be0-9d0e9960651e",
   "metadata": {},
   "source": [
    "Woah!! Cool graph but it is hard to tell what is happening because there are no labels on the axies. \n",
    "\n",
    "## Step 5: Make it make sense\n",
    "Add labels and edit the x and y axis limits to make the trends the graph is showing more clear"
   ]
  },
  {
   "cell_type": "code",
   "execution_count": null,
   "id": "46c17b8c-db8a-437d-bdd4-25a8b0431925",
   "metadata": {},
   "outputs": [],
   "source": [
    "top_trees.plot(title = 'Tree Space Width vs Air Quality Benifits in Top 3 Most Popular Trees', \n",
    "               xlabel = 'Tree Space Width (ft)', ylabel = 'Air Quality Benifits ($)')"
   ]
  },
  {
   "cell_type": "markdown",
   "id": "150486b6-e21a-468d-b7cf-3adc4f2e7177",
   "metadata": {},
   "source": [
    "This graph shows that London Planetrees provide the most air quality benefits for smaller growth spaces. However is this graph the best way to show this? We will explore this next time by looking at other plot libraries!"
   ]
  },
  {
   "cell_type": "markdown",
   "id": "5bbdf7d9-ae4e-46fc-ba01-66ec71c536dc",
   "metadata": {},
   "source": [
    "## Now try it on your own graph!\n",
    "Try this out and if you find you need to express your information in another form like a bar or scatter plot check out the plot functions on the pandas functions website we looked at last week!\n",
    "\n",
    "If your data is still not represented well by these graphs then hold on for next week where we will check out seaborn graphs!"
   ]
  }
 ],
 "metadata": {
  "kernelspec": {
   "display_name": "Python 3 (ipykernel)",
   "language": "python",
   "name": "python3"
  },
  "language_info": {
   "codemirror_mode": {
    "name": "ipython",
    "version": 3
   },
   "file_extension": ".py",
   "mimetype": "text/x-python",
   "name": "python",
   "nbconvert_exporter": "python",
   "pygments_lexer": "ipython3",
   "version": "3.11.10"
  }
 },
 "nbformat": 4,
 "nbformat_minor": 5
}
