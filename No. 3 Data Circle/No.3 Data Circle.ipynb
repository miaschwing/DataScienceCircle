{
 "cells": [
  {
   "cell_type": "markdown",
   "id": "0fe1c222-1867-499b-97a4-d3c24e483b4a",
   "metadata": {},
   "source": [
    "# Data Circle Notebook 3"
   ]
  },
  {
   "cell_type": "markdown",
   "id": "f923f667-10a5-4d78-a4a5-3bba4a2f8f53",
   "metadata": {},
   "source": [
    "This notebook will introduce how we make **visualizations and graphs** using Pandas\n",
    "\n",
    "Don't forget about importing the pandas library and importing your dataset:"
   ]
  },
  {
   "cell_type": "code",
   "execution_count": null,
   "id": "d5942d29-e714-4c71-a4ef-8b0ec16ea24a",
   "metadata": {},
   "outputs": [],
   "source": [
    "import pandas as pd"
   ]
  },
  {
   "cell_type": "code",
   "execution_count": null,
   "id": "752185b2-bcb0-413e-b2bf-45a2875b77e3",
   "metadata": {},
   "outputs": [],
   "source": [
    "df= pd.read_csv(\"PittsTrees.csv\")"
   ]
  },
  {
   "cell_type": "markdown",
   "id": "4452f82d-ec01-457f-a276-1b93763deee2",
   "metadata": {},
   "source": [
    "## Starting with only using 2 variables\n",
    "When creating graphs there are so so so many different graphs you can create with different information. We will start simply by using only 2 variables to create a line graph. I recommend having one of your variables be **time** so you have a graph of something occurring over time.\n",
    "\n",
    "I will show an example below using a dataframe on trees in Pittsburgh (https://data.wprdc.org/dataset/city-trees), you should follow along with your own dataset to create your own graph!"
   ]
  },
  {
   "cell_type": "code",
   "execution_count": null,
   "id": "9e0fab43-dc40-4146-a47f-3b0e55ef0b84",
   "metadata": {},
   "outputs": [],
   "source": [
    "df"
   ]
  },
  {
   "cell_type": "markdown",
   "id": "e6b43ff1-46e2-4233-b054-8ba0601c6911",
   "metadata": {},
   "source": [
    "## Step 1: decide what columns you would like to use!"
   ]
  },
  {
   "cell_type": "code",
   "execution_count": null,
   "id": "e237a68b-1a79-467d-9787-9d32215e10b9",
   "metadata": {},
   "outputs": [],
   "source": [
    "df.columns"
   ]
  },
  {
   "cell_type": "markdown",
   "id": "8a7be123-69d0-4e82-8b57-78eb3753323e",
   "metadata": {},
   "source": [
    "## Step 2: Make a mini dataframe\n",
    "Once you have decided make a smaller dataframe with all of the columns you will use! \n",
    "\n",
    "I decided to use the 3 columns below in order to compare the growth space of a tree vs. its dollar amount of air quality benefits. Don't forget to assign your new data frame to a variable name!"
   ]
  },
  {
   "cell_type": "code",
   "execution_count": null,
   "id": "602ab003-8919-4e3d-b0ef-9674e97f62c6",
   "metadata": {},
   "outputs": [],
   "source": [
    "trees = df[['common_name', 'growth_space_width', 'air_quality_benfits_total_dollar_value']]\n",
    "trees"
   ]
  },
  {
   "cell_type": "code",
   "execution_count": null,
   "id": "5ae36ddd-2031-4928-90d9-ea6916eb8fd9",
   "metadata": {},
   "outputs": [],
   "source": [
    "trees = trees.dropna()\n",
    "trees"
   ]
  },
  {
   "cell_type": "markdown",
   "id": "5dcf59be-b2dc-4c32-ba36-44d91bb1a4cb",
   "metadata": {},
   "source": [
    "## Step 3: if you need, make more changes to your dataframe\n",
    "I am deciding I just want to look at Red Maple trees."
   ]
  },
  {
   "cell_type": "code",
   "execution_count": null,
   "id": "f93a8aca-8f27-47e2-b441-4f9da3ae9b72",
   "metadata": {},
   "outputs": [],
   "source": [
    "trees = df[['common_name', 'growth_space_width', 'air_quality_benfits_total_dollar_value']]\n",
    "trees"
   ]
  },
  {
   "cell_type": "code",
   "execution_count": null,
   "id": "11f9cf24-3208-449e-89b1-c0fef07360ee",
   "metadata": {},
   "outputs": [],
   "source": [
    "maple_red = maple_red.drop(columns = 'common_name').groupby('growth_space_width').mean()\n",
    "maple_red"
   ]
  },
  {
   "cell_type": "markdown",
   "id": "59de84a5-60e4-4135-90df-46be39599504",
   "metadata": {},
   "source": [
    "## Step 4: Graph time!!\n"
   ]
  },
  {
   "cell_type": "code",
   "execution_count": null,
   "id": "523ffeda-98a0-4123-aa08-8d622de4aa33",
   "metadata": {},
   "outputs": [],
   "source": [
    "maple_red.plot()"
   ]
  },
  {
   "cell_type": "markdown",
   "id": "227cf995-1600-4b10-baec-7b2ef0029ea3",
   "metadata": {},
   "source": [
    "## Graphing with multiple variables\n",
    "What if I wanted compare multiple trees at once to see which one has the best quality benfits and small growth space?"
   ]
  },
  {
   "cell_type": "code",
   "execution_count": null,
   "id": "6d118862-abd1-4cd4-86bc-6db03643b8fe",
   "metadata": {},
   "outputs": [],
   "source": [
    "trees"
   ]
  },
  {
   "cell_type": "markdown",
   "id": "61fb4c76-ca3e-4151-99be-b7001b2c4730",
   "metadata": {},
   "source": [
    "## Step 1: Find which other variables you want to compare with\n",
    "I want to compare Red Maple trees with other popular trees in Pittsburgh. So lets find the top counted trees in this dataset. "
   ]
  },
  {
   "cell_type": "code",
   "execution_count": null,
   "id": "a282dbb2-4c27-4749-af47-178a6524dab4",
   "metadata": {},
   "outputs": [],
   "source": [
    "counted_trees = trees.groupby('common_name').count().sort_values('growth_space_width', ascending = False)\n",
    "counted_trees"
   ]
  },
  {
   "cell_type": "code",
   "execution_count": null,
   "id": "31aad907-cab4-4f83-bc30-34006ec07835",
   "metadata": {},
   "outputs": [],
   "source": [
    "top_3 = counted_trees[0:3].reset_index()['common_name']\n",
    "top_3"
   ]
  },
  {
   "cell_type": "markdown",
   "id": "6d8b41d7-065e-4e93-99ad-9f402755b27f",
   "metadata": {},
   "source": [
    "## Step 2: Moving things around with our friends groupby and pivot\n",
    "In order to have a graph with multiple lines you need each of those categories to be their own columns. To do this you often need to use groupby and or pivot. \n",
    "\n",
    "**Tip:** When doing this, think of the columns as each of the different lines on the graph, the index as the x-axis, and the values in the box as the y-axis. \n",
    "\n",
    "Below I will be using both groupby and pivot on my data frame to have a data frame that has columns for each of the tree types, an index of the growth space, and values of the dollar amount of air quality benefits. "
   ]
  },
  {
   "cell_type": "code",
   "execution_count": null,
   "id": "ec538814-a8ff-4700-972e-f515b7def277",
   "metadata": {},
   "outputs": [],
   "source": [
    "grouped_trees = trees.groupby(['common_name', 'growth_space_width']).mean().reset_index()\n",
    "grouped_trees"
   ]
  },
  {
   "cell_type": "code",
   "execution_count": null,
   "id": "b61e0694-f245-4cab-88b1-4a50b39278a9",
   "metadata": {},
   "outputs": [],
   "source": [
    "pivot_trees = grouped_trees.pivot(values = 'air_quality_benfits_total_dollar_value', \n",
    "                   columns = 'common_name', \n",
    "                    index = 'growth_space_width')\n",
    "pivot_trees"
   ]
  },
  {
   "cell_type": "markdown",
   "id": "0a752486-1c42-481a-a1cd-f428448bb36a",
   "metadata": {},
   "source": [
    "## Step 3: Grab the columns with the varibles you found in step 1"
   ]
  },
  {
   "cell_type": "code",
   "execution_count": 160,
   "id": "b6fa7093-977f-4000-abc7-87130daf97ca",
   "metadata": {},
   "outputs": [
    {
     "data": {
      "text/plain": [
       "0       Maple: Norway\n",
       "1          Maple: Red\n",
       "2    London planetree\n",
       "Name: common_name, dtype: object"
      ]
     },
     "execution_count": 160,
     "metadata": {},
     "output_type": "execute_result"
    }
   ],
   "source": []
  },
  {
   "cell_type": "code",
   "execution_count": 163,
   "id": "9e803555-53ad-44a5-9310-ecffba5d0e30",
   "metadata": {},
   "outputs": [
    {
     "data": {
      "text/html": [
       "<div>\n",
       "<style scoped>\n",
       "    .dataframe tbody tr th:only-of-type {\n",
       "        vertical-align: middle;\n",
       "    }\n",
       "\n",
       "    .dataframe tbody tr th {\n",
       "        vertical-align: top;\n",
       "    }\n",
       "\n",
       "    .dataframe thead th {\n",
       "        text-align: right;\n",
       "    }\n",
       "</style>\n",
       "<table border=\"1\" class=\"dataframe\">\n",
       "  <thead>\n",
       "    <tr style=\"text-align: right;\">\n",
       "      <th>common_name</th>\n",
       "      <th>Maple: Norway</th>\n",
       "      <th>Maple: Red</th>\n",
       "      <th>London planetree</th>\n",
       "    </tr>\n",
       "    <tr>\n",
       "      <th>growth_space_width</th>\n",
       "      <th></th>\n",
       "      <th></th>\n",
       "      <th></th>\n",
       "    </tr>\n",
       "  </thead>\n",
       "  <tbody>\n",
       "    <tr>\n",
       "      <th>0.0</th>\n",
       "      <td>9.078277</td>\n",
       "      <td>5.514133</td>\n",
       "      <td>15.376766</td>\n",
       "    </tr>\n",
       "    <tr>\n",
       "      <th>1.0</th>\n",
       "      <td>4.629221</td>\n",
       "      <td>6.092467</td>\n",
       "      <td>13.693594</td>\n",
       "    </tr>\n",
       "    <tr>\n",
       "      <th>2.0</th>\n",
       "      <td>5.677649</td>\n",
       "      <td>5.404521</td>\n",
       "      <td>18.556751</td>\n",
       "    </tr>\n",
       "    <tr>\n",
       "      <th>3.0</th>\n",
       "      <td>6.389758</td>\n",
       "      <td>5.210844</td>\n",
       "      <td>17.304930</td>\n",
       "    </tr>\n",
       "    <tr>\n",
       "      <th>3.5</th>\n",
       "      <td>NaN</td>\n",
       "      <td>NaN</td>\n",
       "      <td>NaN</td>\n",
       "    </tr>\n",
       "    <tr>\n",
       "      <th>4.0</th>\n",
       "      <td>7.158487</td>\n",
       "      <td>3.015620</td>\n",
       "      <td>10.828658</td>\n",
       "    </tr>\n",
       "    <tr>\n",
       "      <th>4.5</th>\n",
       "      <td>NaN</td>\n",
       "      <td>NaN</td>\n",
       "      <td>0.069626</td>\n",
       "    </tr>\n",
       "    <tr>\n",
       "      <th>5.0</th>\n",
       "      <td>6.927062</td>\n",
       "      <td>2.678935</td>\n",
       "      <td>12.935180</td>\n",
       "    </tr>\n",
       "    <tr>\n",
       "      <th>6.0</th>\n",
       "      <td>8.184600</td>\n",
       "      <td>2.718254</td>\n",
       "      <td>17.574720</td>\n",
       "    </tr>\n",
       "    <tr>\n",
       "      <th>7.0</th>\n",
       "      <td>7.501726</td>\n",
       "      <td>7.021506</td>\n",
       "      <td>15.036998</td>\n",
       "    </tr>\n",
       "    <tr>\n",
       "      <th>8.0</th>\n",
       "      <td>5.970238</td>\n",
       "      <td>4.098979</td>\n",
       "      <td>4.910702</td>\n",
       "    </tr>\n",
       "    <tr>\n",
       "      <th>9.0</th>\n",
       "      <td>NaN</td>\n",
       "      <td>10.237480</td>\n",
       "      <td>NaN</td>\n",
       "    </tr>\n",
       "    <tr>\n",
       "      <th>10.0</th>\n",
       "      <td>11.958717</td>\n",
       "      <td>4.900543</td>\n",
       "      <td>8.759320</td>\n",
       "    </tr>\n",
       "    <tr>\n",
       "      <th>10.5</th>\n",
       "      <td>NaN</td>\n",
       "      <td>NaN</td>\n",
       "      <td>NaN</td>\n",
       "    </tr>\n",
       "    <tr>\n",
       "      <th>11.0</th>\n",
       "      <td>1.794384</td>\n",
       "      <td>NaN</td>\n",
       "      <td>12.068381</td>\n",
       "    </tr>\n",
       "    <tr>\n",
       "      <th>12.0</th>\n",
       "      <td>NaN</td>\n",
       "      <td>2.747276</td>\n",
       "      <td>1.993220</td>\n",
       "    </tr>\n",
       "    <tr>\n",
       "      <th>13.0</th>\n",
       "      <td>NaN</td>\n",
       "      <td>NaN</td>\n",
       "      <td>NaN</td>\n",
       "    </tr>\n",
       "    <tr>\n",
       "      <th>14.0</th>\n",
       "      <td>NaN</td>\n",
       "      <td>7.754644</td>\n",
       "      <td>NaN</td>\n",
       "    </tr>\n",
       "    <tr>\n",
       "      <th>15.0</th>\n",
       "      <td>6.961709</td>\n",
       "      <td>8.740042</td>\n",
       "      <td>5.713502</td>\n",
       "    </tr>\n",
       "    <tr>\n",
       "      <th>16.0</th>\n",
       "      <td>16.708494</td>\n",
       "      <td>NaN</td>\n",
       "      <td>NaN</td>\n",
       "    </tr>\n",
       "    <tr>\n",
       "      <th>18.0</th>\n",
       "      <td>5.377960</td>\n",
       "      <td>NaN</td>\n",
       "      <td>21.071281</td>\n",
       "    </tr>\n",
       "    <tr>\n",
       "      <th>19.0</th>\n",
       "      <td>NaN</td>\n",
       "      <td>NaN</td>\n",
       "      <td>NaN</td>\n",
       "    </tr>\n",
       "    <tr>\n",
       "      <th>20.0</th>\n",
       "      <td>8.257002</td>\n",
       "      <td>2.823000</td>\n",
       "      <td>4.240187</td>\n",
       "    </tr>\n",
       "    <tr>\n",
       "      <th>22.0</th>\n",
       "      <td>NaN</td>\n",
       "      <td>NaN</td>\n",
       "      <td>NaN</td>\n",
       "    </tr>\n",
       "    <tr>\n",
       "      <th>23.0</th>\n",
       "      <td>NaN</td>\n",
       "      <td>NaN</td>\n",
       "      <td>NaN</td>\n",
       "    </tr>\n",
       "    <tr>\n",
       "      <th>25.0</th>\n",
       "      <td>12.119858</td>\n",
       "      <td>5.035335</td>\n",
       "      <td>19.431123</td>\n",
       "    </tr>\n",
       "    <tr>\n",
       "      <th>27.0</th>\n",
       "      <td>NaN</td>\n",
       "      <td>NaN</td>\n",
       "      <td>NaN</td>\n",
       "    </tr>\n",
       "    <tr>\n",
       "      <th>30.0</th>\n",
       "      <td>11.586792</td>\n",
       "      <td>NaN</td>\n",
       "      <td>1.069442</td>\n",
       "    </tr>\n",
       "    <tr>\n",
       "      <th>33.0</th>\n",
       "      <td>NaN</td>\n",
       "      <td>1.363300</td>\n",
       "      <td>3.540701</td>\n",
       "    </tr>\n",
       "    <tr>\n",
       "      <th>35.0</th>\n",
       "      <td>9.386245</td>\n",
       "      <td>NaN</td>\n",
       "      <td>4.856681</td>\n",
       "    </tr>\n",
       "    <tr>\n",
       "      <th>40.0</th>\n",
       "      <td>12.834609</td>\n",
       "      <td>0.943317</td>\n",
       "      <td>NaN</td>\n",
       "    </tr>\n",
       "    <tr>\n",
       "      <th>45.0</th>\n",
       "      <td>NaN</td>\n",
       "      <td>NaN</td>\n",
       "      <td>NaN</td>\n",
       "    </tr>\n",
       "    <tr>\n",
       "      <th>50.0</th>\n",
       "      <td>NaN</td>\n",
       "      <td>NaN</td>\n",
       "      <td>NaN</td>\n",
       "    </tr>\n",
       "    <tr>\n",
       "      <th>60.0</th>\n",
       "      <td>NaN</td>\n",
       "      <td>NaN</td>\n",
       "      <td>NaN</td>\n",
       "    </tr>\n",
       "    <tr>\n",
       "      <th>70.0</th>\n",
       "      <td>NaN</td>\n",
       "      <td>NaN</td>\n",
       "      <td>25.782054</td>\n",
       "    </tr>\n",
       "    <tr>\n",
       "      <th>75.0</th>\n",
       "      <td>NaN</td>\n",
       "      <td>NaN</td>\n",
       "      <td>NaN</td>\n",
       "    </tr>\n",
       "    <tr>\n",
       "      <th>98.0</th>\n",
       "      <td>1.695280</td>\n",
       "      <td>NaN</td>\n",
       "      <td>NaN</td>\n",
       "    </tr>\n",
       "    <tr>\n",
       "      <th>99.0</th>\n",
       "      <td>8.351875</td>\n",
       "      <td>6.524224</td>\n",
       "      <td>18.971047</td>\n",
       "    </tr>\n",
       "  </tbody>\n",
       "</table>\n",
       "</div>"
      ],
      "text/plain": [
       "common_name         Maple: Norway  Maple: Red  London planetree\n",
       "growth_space_width                                             \n",
       "0.0                      9.078277    5.514133         15.376766\n",
       "1.0                      4.629221    6.092467         13.693594\n",
       "2.0                      5.677649    5.404521         18.556751\n",
       "3.0                      6.389758    5.210844         17.304930\n",
       "3.5                           NaN         NaN               NaN\n",
       "4.0                      7.158487    3.015620         10.828658\n",
       "4.5                           NaN         NaN          0.069626\n",
       "5.0                      6.927062    2.678935         12.935180\n",
       "6.0                      8.184600    2.718254         17.574720\n",
       "7.0                      7.501726    7.021506         15.036998\n",
       "8.0                      5.970238    4.098979          4.910702\n",
       "9.0                           NaN   10.237480               NaN\n",
       "10.0                    11.958717    4.900543          8.759320\n",
       "10.5                          NaN         NaN               NaN\n",
       "11.0                     1.794384         NaN         12.068381\n",
       "12.0                          NaN    2.747276          1.993220\n",
       "13.0                          NaN         NaN               NaN\n",
       "14.0                          NaN    7.754644               NaN\n",
       "15.0                     6.961709    8.740042          5.713502\n",
       "16.0                    16.708494         NaN               NaN\n",
       "18.0                     5.377960         NaN         21.071281\n",
       "19.0                          NaN         NaN               NaN\n",
       "20.0                     8.257002    2.823000          4.240187\n",
       "22.0                          NaN         NaN               NaN\n",
       "23.0                          NaN         NaN               NaN\n",
       "25.0                    12.119858    5.035335         19.431123\n",
       "27.0                          NaN         NaN               NaN\n",
       "30.0                    11.586792         NaN          1.069442\n",
       "33.0                          NaN    1.363300          3.540701\n",
       "35.0                     9.386245         NaN          4.856681\n",
       "40.0                    12.834609    0.943317               NaN\n",
       "45.0                          NaN         NaN               NaN\n",
       "50.0                          NaN         NaN               NaN\n",
       "60.0                          NaN         NaN               NaN\n",
       "70.0                          NaN         NaN         25.782054\n",
       "75.0                          NaN         NaN               NaN\n",
       "98.0                     1.695280         NaN               NaN\n",
       "99.0                     8.351875    6.524224         18.971047"
      ]
     },
     "execution_count": 163,
     "metadata": {},
     "output_type": "execute_result"
    }
   ],
   "source": [
    "top_trees = pivot_trees[top_3]\n",
    "top_trees"
   ]
  },
  {
   "cell_type": "code",
   "execution_count": 167,
   "id": "076b00c8-ef98-434b-b50e-50f77e14b85b",
   "metadata": {},
   "outputs": [
    {
     "data": {
      "text/html": [
       "<div>\n",
       "<style scoped>\n",
       "    .dataframe tbody tr th:only-of-type {\n",
       "        vertical-align: middle;\n",
       "    }\n",
       "\n",
       "    .dataframe tbody tr th {\n",
       "        vertical-align: top;\n",
       "    }\n",
       "\n",
       "    .dataframe thead th {\n",
       "        text-align: right;\n",
       "    }\n",
       "</style>\n",
       "<table border=\"1\" class=\"dataframe\">\n",
       "  <thead>\n",
       "    <tr style=\"text-align: right;\">\n",
       "      <th>common_name</th>\n",
       "      <th>Maple: Norway</th>\n",
       "      <th>Maple: Red</th>\n",
       "      <th>London planetree</th>\n",
       "    </tr>\n",
       "    <tr>\n",
       "      <th>growth_space_width</th>\n",
       "      <th></th>\n",
       "      <th></th>\n",
       "      <th></th>\n",
       "    </tr>\n",
       "  </thead>\n",
       "  <tbody>\n",
       "    <tr>\n",
       "      <th>0.0</th>\n",
       "      <td>9.078277</td>\n",
       "      <td>5.514133</td>\n",
       "      <td>15.376766</td>\n",
       "    </tr>\n",
       "    <tr>\n",
       "      <th>1.0</th>\n",
       "      <td>4.629221</td>\n",
       "      <td>6.092467</td>\n",
       "      <td>13.693594</td>\n",
       "    </tr>\n",
       "    <tr>\n",
       "      <th>2.0</th>\n",
       "      <td>5.677649</td>\n",
       "      <td>5.404521</td>\n",
       "      <td>18.556751</td>\n",
       "    </tr>\n",
       "    <tr>\n",
       "      <th>3.0</th>\n",
       "      <td>6.389758</td>\n",
       "      <td>5.210844</td>\n",
       "      <td>17.304930</td>\n",
       "    </tr>\n",
       "    <tr>\n",
       "      <th>4.0</th>\n",
       "      <td>7.158487</td>\n",
       "      <td>3.015620</td>\n",
       "      <td>10.828658</td>\n",
       "    </tr>\n",
       "    <tr>\n",
       "      <th>5.0</th>\n",
       "      <td>6.927062</td>\n",
       "      <td>2.678935</td>\n",
       "      <td>12.935180</td>\n",
       "    </tr>\n",
       "    <tr>\n",
       "      <th>6.0</th>\n",
       "      <td>8.184600</td>\n",
       "      <td>2.718254</td>\n",
       "      <td>17.574720</td>\n",
       "    </tr>\n",
       "    <tr>\n",
       "      <th>7.0</th>\n",
       "      <td>7.501726</td>\n",
       "      <td>7.021506</td>\n",
       "      <td>15.036998</td>\n",
       "    </tr>\n",
       "    <tr>\n",
       "      <th>8.0</th>\n",
       "      <td>5.970238</td>\n",
       "      <td>4.098979</td>\n",
       "      <td>4.910702</td>\n",
       "    </tr>\n",
       "    <tr>\n",
       "      <th>10.0</th>\n",
       "      <td>11.958717</td>\n",
       "      <td>4.900543</td>\n",
       "      <td>8.759320</td>\n",
       "    </tr>\n",
       "    <tr>\n",
       "      <th>15.0</th>\n",
       "      <td>6.961709</td>\n",
       "      <td>8.740042</td>\n",
       "      <td>5.713502</td>\n",
       "    </tr>\n",
       "    <tr>\n",
       "      <th>20.0</th>\n",
       "      <td>8.257002</td>\n",
       "      <td>2.823000</td>\n",
       "      <td>4.240187</td>\n",
       "    </tr>\n",
       "    <tr>\n",
       "      <th>25.0</th>\n",
       "      <td>12.119858</td>\n",
       "      <td>5.035335</td>\n",
       "      <td>19.431123</td>\n",
       "    </tr>\n",
       "    <tr>\n",
       "      <th>99.0</th>\n",
       "      <td>8.351875</td>\n",
       "      <td>6.524224</td>\n",
       "      <td>18.971047</td>\n",
       "    </tr>\n",
       "  </tbody>\n",
       "</table>\n",
       "</div>"
      ],
      "text/plain": [
       "common_name         Maple: Norway  Maple: Red  London planetree\n",
       "growth_space_width                                             \n",
       "0.0                      9.078277    5.514133         15.376766\n",
       "1.0                      4.629221    6.092467         13.693594\n",
       "2.0                      5.677649    5.404521         18.556751\n",
       "3.0                      6.389758    5.210844         17.304930\n",
       "4.0                      7.158487    3.015620         10.828658\n",
       "5.0                      6.927062    2.678935         12.935180\n",
       "6.0                      8.184600    2.718254         17.574720\n",
       "7.0                      7.501726    7.021506         15.036998\n",
       "8.0                      5.970238    4.098979          4.910702\n",
       "10.0                    11.958717    4.900543          8.759320\n",
       "15.0                     6.961709    8.740042          5.713502\n",
       "20.0                     8.257002    2.823000          4.240187\n",
       "25.0                    12.119858    5.035335         19.431123\n",
       "99.0                     8.351875    6.524224         18.971047"
      ]
     },
     "execution_count": 167,
     "metadata": {},
     "output_type": "execute_result"
    }
   ],
   "source": [
    "top_trees = top_trees.dropna()\n",
    "top_trees"
   ]
  },
  {
   "cell_type": "markdown",
   "id": "cab39f6f-9af1-4490-a0d3-6fe628f9c5b3",
   "metadata": {},
   "source": [
    "## Step 4: Graph time!!"
   ]
  },
  {
   "cell_type": "code",
   "execution_count": 165,
   "id": "085b0526-41c6-43e8-83e9-54f5a1f18bfe",
   "metadata": {},
   "outputs": [
    {
     "data": {
      "text/plain": [
       "<Axes: xlabel='growth_space_width'>"
      ]
     },
     "execution_count": 165,
     "metadata": {},
     "output_type": "execute_result"
    },
    {
     "data": {
      "image/png": "[encoded data removed]",
      "text/plain": [
       "<Figure size 640x480 with 1 Axes>"
      ]
     },
     "metadata": {},
     "output_type": "display_data"
    }
   ],
   "source": [
    "top_trees.dropna().plot()"
   ]
  },
  {
   "cell_type": "markdown",
   "id": "4cc288da-37be-42e0-8be0-9d0e9960651e",
   "metadata": {},
   "source": [
    "Woah!! Cool graph but it is hard to tell what is happening because there are no labels on the axies. \n",
    "\n",
    "## Step 5: Make it make sense\n",
    "Add labels and edit the x and y axis limits to make the trends the graph is showing more clear"
   ]
  },
  {
   "cell_type": "code",
   "execution_count": 169,
   "id": "46c17b8c-db8a-437d-bdd4-25a8b0431925",
   "metadata": {},
   "outputs": [
    {
     "data": {
      "text/plain": [
       "<Axes: title={'center': 'Tree Space Width vs Air Quality Benifits in Top 3 Most Popular Trees'}, xlabel='Tree Space Width (ft)', ylabel='Air Quality Benifits ($)'>"
      ]
     },
     "execution_count": 169,
     "metadata": {},
     "output_type": "execute_result"
    },
    {
     "data": {
      "image/png": "[encoded data removed]",
      "text/plain": [
       "<Figure size 640x480 with 1 Axes>"
      ]
     },
     "metadata": {},
     "output_type": "display_data"
    }
   ],
   "source": [
    "top_trees.plot(title = 'Tree Space Width vs Air Quality Benifits in Top 3 Most Popular Trees', \n",
    "               xlabel = 'Tree Space Width (ft)', ylabel = 'Air Quality Benifits ($)')"
   ]
  },
  {
   "cell_type": "markdown",
   "id": "150486b6-e21a-468d-b7cf-3adc4f2e7177",
   "metadata": {},
   "source": [
    "This graph shows that London Planetrees provide the most air quality benefits for smaller growth spaces. However is this graph the best way to show this? We will explore this next time by looking at other plot libraries!"
   ]
  },
  {
   "cell_type": "markdown",
   "id": "5bbdf7d9-ae4e-46fc-ba01-66ec71c536dc",
   "metadata": {},
   "source": [
    "## Now try it on your own graph!\n",
    "Try this out and if you find you need to express your information in another form like a bar or scatter plot check out the plot functions on the pandas functions website we looked at last week!\n",
    "\n",
    "If your data is still not represented well by these graphs then hold on for next week where we will check out seaborn graphs!"
   ]
  }
 ],
 "metadata": {
  "kernelspec": {
   "display_name": "Python 3 (ipykernel)",
   "language": "python",
   "name": "python3"
  },
  "language_info": {
   "codemirror_mode": {
    "name": "ipython",
    "version": 3
   },
   "file_extension": ".py",
   "mimetype": "text/x-python",
   "name": "python",
   "nbconvert_exporter": "python",
   "pygments_lexer": "ipython3",
   "version": "3.11.10"
  }
 },
 "nbformat": 4,
 "nbformat_minor": 5
}
