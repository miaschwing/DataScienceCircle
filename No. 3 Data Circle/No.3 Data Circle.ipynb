{
 "cells": [
  {
   "cell_type": "markdown",
   "id": "0fe1c222-1867-499b-97a4-d3c24e483b4a",
   "metadata": {},
   "source": [
    "# Data Circle Notebook 3"
   ]
  },
  {
   "cell_type": "markdown",
   "id": "f923f667-10a5-4d78-a4a5-3bba4a2f8f53",
   "metadata": {},
   "source": [
    "This notebook will introduce how we make **visualizations and graphs** using Pandas\n",
    "\n",
    "Don't forget about importing the pandas library and importing your dataset:"
   ]
  },
  {
   "cell_type": "code",
   "execution_count": null,
   "id": "d5942d29-e714-4c71-a4ef-8b0ec16ea24a",
   "metadata": {},
   "outputs": [],
   "source": [
    "import pandas as pd"
   ]
  },
  {
   "cell_type": "code",
   "execution_count": null,
   "id": "752185b2-bcb0-413e-b2bf-45a2875b77e3",
   "metadata": {},
   "outputs": [],
   "source": [
    "df= pd.read_csv(\"PittsTrees.csv\")"
   ]
  },
  {
   "cell_type": "markdown",
   "id": "4452f82d-ec01-457f-a276-1b93763deee2",
   "metadata": {},
   "source": [
    "## Starting with only using 2 variables\n",
    "When creating graphs there are so so so many different graphs you can create with different information. We will start simply by using only 2 variables to create a line graph. I recommend having one of your variables be **time** so you have a graph of something occurring over time.\n",
    "\n",
    "I will show an example below using my social media sentiment dataset, you should follow along with your own dataset to create your own graph!"
   ]
  },
  {
   "cell_type": "code",
   "execution_count": null,
   "id": "9e0fab43-dc40-4146-a47f-3b0e55ef0b84",
   "metadata": {},
   "outputs": [],
   "source": [
    "df"
   ]
  },
  {
   "cell_type": "markdown",
   "id": "e6b43ff1-46e2-4233-b054-8ba0601c6911",
   "metadata": {},
   "source": [
    "## Step 1: decide what columns you would like to use!"
   ]
  },
  {
   "cell_type": "code",
   "execution_count": null,
   "id": "e237a68b-1a79-467d-9787-9d32215e10b9",
   "metadata": {},
   "outputs": [],
   "source": [
    "df.columns"
   ]
  },
  {
   "cell_type": "markdown",
   "id": "8a7be123-69d0-4e82-8b57-78eb3753323e",
   "metadata": {},
   "source": [
    "## Step 2: Make a mini dataframe\n",
    "Once you have decided make a smaller dataframe with all of the columns you will use! \n",
    "\n",
    "I decided to use the 4 columns below in order to compare the growth space of a tree vs. its dollar amount of air quality benefits. Don't forget to assign your new data frame to a variable name!"
   ]
  },
  {
   "cell_type": "code",
   "execution_count": null,
   "id": "88d10e57-4e4b-4b4a-a049-c7065a26c4bc",
   "metadata": {},
   "outputs": [],
   "source": [
    "quality_trees = df[['neighborhood', 'growth_space_width', 'air_quality_benfits_total_dollar_value']]\n",
    "quality_trees"
   ]
  },
  {
   "cell_type": "markdown",
   "id": "5dcf59be-b2dc-4c32-ba36-44d91bb1a4cb",
   "metadata": {},
   "source": [
    "## Step 3: if you need, make more changes to your dataframe\n",
    "I am deciding I just want to look at trees in Highland Park"
   ]
  },
  {
   "cell_type": "code",
   "execution_count": null,
   "id": "5c3c4dce-e815-4a0b-93ff-f386733583bd",
   "metadata": {},
   "outputs": [],
   "source": [
    "highland_trees = quality_trees[quality_trees['neighborhood'] == 'Highland Park'].drop(columns ='neighborhood')\n",
    "highland_trees "
   ]
  },
  {
   "cell_type": "code",
   "execution_count": null,
   "id": "9806a075-279c-4f77-a43e-a68cec2d96e0",
   "metadata": {},
   "outputs": [],
   "source": [
    "highland_trees = highland_trees.groupby('growth_space_width').sum()\n",
    "highland_trees"
   ]
  },
  {
   "cell_type": "markdown",
   "id": "59de84a5-60e4-4135-90df-46be39599504",
   "metadata": {},
   "source": [
    "## Step 4: Graph time!!\n"
   ]
  },
  {
   "cell_type": "code",
   "execution_count": null,
   "id": "523ffeda-98a0-4123-aa08-8d622de4aa33",
   "metadata": {},
   "outputs": [],
   "source": [
    "highland_trees.plot()"
   ]
  },
  {
   "cell_type": "markdown",
   "id": "227cf995-1600-4b10-baec-7b2ef0029ea3",
   "metadata": {},
   "source": [
    "## Graphing with multiple variables\n",
    "What if I wanted to see if other neighborhoods had a different trend for air quality vs. growth space?"
   ]
  },
  {
   "cell_type": "code",
   "execution_count": null,
   "id": "6d118862-abd1-4cd4-86bc-6db03643b8fe",
   "metadata": {},
   "outputs": [],
   "source": [
    "quality_trees"
   ]
  },
  {
   "cell_type": "markdown",
   "id": "61fb4c76-ca3e-4151-99be-b7001b2c4730",
   "metadata": {},
   "source": [
    "## Step 1: Find which other variables you want to compare with\n",
    "I want to compare Highland Park with other neighborhoods that have a lot of trees so below I find the top 5 neighborhoods with the most trees. "
   ]
  },
  {
   "cell_type": "code",
   "execution_count": null,
   "id": "a282dbb2-4c27-4749-af47-178a6524dab4",
   "metadata": {},
   "outputs": [],
   "source": [
    "quality_trees.groupby('neighborhood').count().sort_values('air_quality_benfits_total_dollar_value', ascending = False).iloc[0:5]"
   ]
  },
  {
   "cell_type": "markdown",
   "id": "6d8b41d7-065e-4e93-99ad-9f402755b27f",
   "metadata": {},
   "source": [
    "## Step 2: Moving things around with our friends groupby and pivot\n",
    "In order to have a graph with multiple lines you need each of those categories to be their own columns. To do this you often need to use groupby and or pivot. \n",
    "\n",
    "**Tip:** When doing this, think of the columns as each of the different lines on the graph, the index as the x-axis, and the values in the box as the y-axis. \n",
    "\n",
    "Below I will be using both groupby and pivot on my data frame to have a data frame that has columns for each of the neighborhoods, an index of the growth space, and values of the dollar amount of air quality benefits. "
   ]
  },
  {
   "cell_type": "code",
   "execution_count": null,
   "id": "ec538814-a8ff-4700-972e-f515b7def277",
   "metadata": {},
   "outputs": [],
   "source": [
    "trees_grouped = quality_trees.groupby(['growth_space_width', 'neighborhood']).sum().reset_index()\n",
    "trees_grouped"
   ]
  },
  {
   "cell_type": "code",
   "execution_count": null,
   "id": "b61e0694-f245-4cab-88b1-4a50b39278a9",
   "metadata": {},
   "outputs": [],
   "source": [
    "trees_grouped = trees_grouped.pivot(values = 'air_quality_benfits_total_dollar_value', \n",
    "                   columns = 'neighborhood', \n",
    "                    index = 'growth_space_width')\n",
    "trees_grouped"
   ]
  },
  {
   "cell_type": "markdown",
   "id": "0a752486-1c42-481a-a1cd-f428448bb36a",
   "metadata": {},
   "source": [
    "## Step 3: Grab the columns with the varibles you found in step 1"
   ]
  },
  {
   "cell_type": "code",
   "execution_count": 154,
   "id": "86289bff-bbfd-4f8d-9d73-a1a2ef7d0dff",
   "metadata": {},
   "outputs": [
    {
     "data": {
      "text/html": [
       "<div>\n",
       "<style scoped>\n",
       "    .dataframe tbody tr th:only-of-type {\n",
       "        vertical-align: middle;\n",
       "    }\n",
       "\n",
       "    .dataframe tbody tr th {\n",
       "        vertical-align: top;\n",
       "    }\n",
       "\n",
       "    .dataframe thead th {\n",
       "        text-align: right;\n",
       "    }\n",
       "</style>\n",
       "<table border=\"1\" class=\"dataframe\">\n",
       "  <thead>\n",
       "    <tr style=\"text-align: right;\">\n",
       "      <th>neighborhood</th>\n",
       "      <th>Highland Park</th>\n",
       "      <th>Squirrel Hill South</th>\n",
       "      <th>Squirrel Hill North</th>\n",
       "      <th>South Side Flats</th>\n",
       "      <th>Shadyside</th>\n",
       "    </tr>\n",
       "    <tr>\n",
       "      <th>growth_space_width</th>\n",
       "      <th></th>\n",
       "      <th></th>\n",
       "      <th></th>\n",
       "      <th></th>\n",
       "      <th></th>\n",
       "    </tr>\n",
       "  </thead>\n",
       "  <tbody>\n",
       "    <tr>\n",
       "      <th>0.0</th>\n",
       "      <td>18498.018730</td>\n",
       "      <td>28675.606183</td>\n",
       "      <td>2784.862106</td>\n",
       "      <td>NaN</td>\n",
       "      <td>10.877266</td>\n",
       "    </tr>\n",
       "    <tr>\n",
       "      <th>1.0</th>\n",
       "      <td>15.044745</td>\n",
       "      <td>65.473999</td>\n",
       "      <td>47.308968</td>\n",
       "      <td>116.597064</td>\n",
       "      <td>83.824717</td>\n",
       "    </tr>\n",
       "    <tr>\n",
       "      <th>2.0</th>\n",
       "      <td>1230.356052</td>\n",
       "      <td>3985.649130</td>\n",
       "      <td>1675.140259</td>\n",
       "      <td>1202.853882</td>\n",
       "      <td>940.246875</td>\n",
       "    </tr>\n",
       "    <tr>\n",
       "      <th>3.0</th>\n",
       "      <td>4867.267667</td>\n",
       "      <td>5054.114380</td>\n",
       "      <td>5497.782479</td>\n",
       "      <td>2011.145085</td>\n",
       "      <td>3663.326159</td>\n",
       "    </tr>\n",
       "    <tr>\n",
       "      <th>3.5</th>\n",
       "      <td>NaN</td>\n",
       "      <td>NaN</td>\n",
       "      <td>NaN</td>\n",
       "      <td>0.151352</td>\n",
       "      <td>NaN</td>\n",
       "    </tr>\n",
       "    <tr>\n",
       "      <th>4.0</th>\n",
       "      <td>745.595768</td>\n",
       "      <td>3290.711515</td>\n",
       "      <td>2180.908188</td>\n",
       "      <td>342.340811</td>\n",
       "      <td>1717.491672</td>\n",
       "    </tr>\n",
       "    <tr>\n",
       "      <th>4.5</th>\n",
       "      <td>3.338589</td>\n",
       "      <td>0.069626</td>\n",
       "      <td>NaN</td>\n",
       "      <td>NaN</td>\n",
       "      <td>NaN</td>\n",
       "    </tr>\n",
       "    <tr>\n",
       "      <th>5.0</th>\n",
       "      <td>220.934435</td>\n",
       "      <td>431.295003</td>\n",
       "      <td>1040.451469</td>\n",
       "      <td>436.804222</td>\n",
       "      <td>508.960512</td>\n",
       "    </tr>\n",
       "    <tr>\n",
       "      <th>6.0</th>\n",
       "      <td>NaN</td>\n",
       "      <td>1479.682983</td>\n",
       "      <td>946.565975</td>\n",
       "      <td>39.983088</td>\n",
       "      <td>68.516785</td>\n",
       "    </tr>\n",
       "    <tr>\n",
       "      <th>7.0</th>\n",
       "      <td>6.644940</td>\n",
       "      <td>23.889225</td>\n",
       "      <td>26.605772</td>\n",
       "      <td>78.813362</td>\n",
       "      <td>403.489054</td>\n",
       "    </tr>\n",
       "    <tr>\n",
       "      <th>8.0</th>\n",
       "      <td>NaN</td>\n",
       "      <td>17.577143</td>\n",
       "      <td>NaN</td>\n",
       "      <td>189.875303</td>\n",
       "      <td>122.360795</td>\n",
       "    </tr>\n",
       "    <tr>\n",
       "      <th>9.0</th>\n",
       "      <td>NaN</td>\n",
       "      <td>NaN</td>\n",
       "      <td>NaN</td>\n",
       "      <td>0.261196</td>\n",
       "      <td>NaN</td>\n",
       "    </tr>\n",
       "    <tr>\n",
       "      <th>10.0</th>\n",
       "      <td>59.178514</td>\n",
       "      <td>34.546808</td>\n",
       "      <td>0.637357</td>\n",
       "      <td>205.453271</td>\n",
       "      <td>54.194380</td>\n",
       "    </tr>\n",
       "    <tr>\n",
       "      <th>10.5</th>\n",
       "      <td>NaN</td>\n",
       "      <td>NaN</td>\n",
       "      <td>NaN</td>\n",
       "      <td>NaN</td>\n",
       "      <td>NaN</td>\n",
       "    </tr>\n",
       "    <tr>\n",
       "      <th>11.0</th>\n",
       "      <td>NaN</td>\n",
       "      <td>NaN</td>\n",
       "      <td>NaN</td>\n",
       "      <td>1.312269</td>\n",
       "      <td>NaN</td>\n",
       "    </tr>\n",
       "    <tr>\n",
       "      <th>12.0</th>\n",
       "      <td>NaN</td>\n",
       "      <td>2.002897</td>\n",
       "      <td>22.801846</td>\n",
       "      <td>75.220321</td>\n",
       "      <td>36.092481</td>\n",
       "    </tr>\n",
       "    <tr>\n",
       "      <th>13.0</th>\n",
       "      <td>NaN</td>\n",
       "      <td>NaN</td>\n",
       "      <td>NaN</td>\n",
       "      <td>NaN</td>\n",
       "      <td>NaN</td>\n",
       "    </tr>\n",
       "    <tr>\n",
       "      <th>14.0</th>\n",
       "      <td>NaN</td>\n",
       "      <td>NaN</td>\n",
       "      <td>NaN</td>\n",
       "      <td>31.189138</td>\n",
       "      <td>NaN</td>\n",
       "    </tr>\n",
       "    <tr>\n",
       "      <th>15.0</th>\n",
       "      <td>NaN</td>\n",
       "      <td>29.517699</td>\n",
       "      <td>3.062005</td>\n",
       "      <td>38.057380</td>\n",
       "      <td>491.559709</td>\n",
       "    </tr>\n",
       "    <tr>\n",
       "      <th>16.0</th>\n",
       "      <td>NaN</td>\n",
       "      <td>NaN</td>\n",
       "      <td>NaN</td>\n",
       "      <td>NaN</td>\n",
       "      <td>NaN</td>\n",
       "    </tr>\n",
       "    <tr>\n",
       "      <th>18.0</th>\n",
       "      <td>NaN</td>\n",
       "      <td>NaN</td>\n",
       "      <td>2.369187</td>\n",
       "      <td>NaN</td>\n",
       "      <td>6.269007</td>\n",
       "    </tr>\n",
       "    <tr>\n",
       "      <th>19.0</th>\n",
       "      <td>NaN</td>\n",
       "      <td>NaN</td>\n",
       "      <td>NaN</td>\n",
       "      <td>NaN</td>\n",
       "      <td>11.029199</td>\n",
       "    </tr>\n",
       "    <tr>\n",
       "      <th>20.0</th>\n",
       "      <td>NaN</td>\n",
       "      <td>NaN</td>\n",
       "      <td>6.333261</td>\n",
       "      <td>NaN</td>\n",
       "      <td>27.559066</td>\n",
       "    </tr>\n",
       "    <tr>\n",
       "      <th>22.0</th>\n",
       "      <td>NaN</td>\n",
       "      <td>NaN</td>\n",
       "      <td>NaN</td>\n",
       "      <td>NaN</td>\n",
       "      <td>11.457438</td>\n",
       "    </tr>\n",
       "    <tr>\n",
       "      <th>23.0</th>\n",
       "      <td>NaN</td>\n",
       "      <td>4.295600</td>\n",
       "      <td>NaN</td>\n",
       "      <td>NaN</td>\n",
       "      <td>NaN</td>\n",
       "    </tr>\n",
       "    <tr>\n",
       "      <th>25.0</th>\n",
       "      <td>NaN</td>\n",
       "      <td>NaN</td>\n",
       "      <td>NaN</td>\n",
       "      <td>NaN</td>\n",
       "      <td>24.417167</td>\n",
       "    </tr>\n",
       "    <tr>\n",
       "      <th>27.0</th>\n",
       "      <td>NaN</td>\n",
       "      <td>1.585198</td>\n",
       "      <td>NaN</td>\n",
       "      <td>NaN</td>\n",
       "      <td>NaN</td>\n",
       "    </tr>\n",
       "    <tr>\n",
       "      <th>30.0</th>\n",
       "      <td>NaN</td>\n",
       "      <td>NaN</td>\n",
       "      <td>NaN</td>\n",
       "      <td>NaN</td>\n",
       "      <td>16.197529</td>\n",
       "    </tr>\n",
       "    <tr>\n",
       "      <th>33.0</th>\n",
       "      <td>NaN</td>\n",
       "      <td>NaN</td>\n",
       "      <td>NaN</td>\n",
       "      <td>NaN</td>\n",
       "      <td>NaN</td>\n",
       "    </tr>\n",
       "    <tr>\n",
       "      <th>35.0</th>\n",
       "      <td>NaN</td>\n",
       "      <td>NaN</td>\n",
       "      <td>NaN</td>\n",
       "      <td>NaN</td>\n",
       "      <td>NaN</td>\n",
       "    </tr>\n",
       "    <tr>\n",
       "      <th>40.0</th>\n",
       "      <td>NaN</td>\n",
       "      <td>NaN</td>\n",
       "      <td>NaN</td>\n",
       "      <td>NaN</td>\n",
       "      <td>56.071990</td>\n",
       "    </tr>\n",
       "    <tr>\n",
       "      <th>45.0</th>\n",
       "      <td>NaN</td>\n",
       "      <td>NaN</td>\n",
       "      <td>NaN</td>\n",
       "      <td>NaN</td>\n",
       "      <td>NaN</td>\n",
       "    </tr>\n",
       "    <tr>\n",
       "      <th>50.0</th>\n",
       "      <td>NaN</td>\n",
       "      <td>NaN</td>\n",
       "      <td>42.890161</td>\n",
       "      <td>NaN</td>\n",
       "      <td>NaN</td>\n",
       "    </tr>\n",
       "    <tr>\n",
       "      <th>60.0</th>\n",
       "      <td>NaN</td>\n",
       "      <td>NaN</td>\n",
       "      <td>NaN</td>\n",
       "      <td>NaN</td>\n",
       "      <td>NaN</td>\n",
       "    </tr>\n",
       "    <tr>\n",
       "      <th>70.0</th>\n",
       "      <td>NaN</td>\n",
       "      <td>NaN</td>\n",
       "      <td>NaN</td>\n",
       "      <td>NaN</td>\n",
       "      <td>25.782054</td>\n",
       "    </tr>\n",
       "    <tr>\n",
       "      <th>75.0</th>\n",
       "      <td>NaN</td>\n",
       "      <td>NaN</td>\n",
       "      <td>NaN</td>\n",
       "      <td>NaN</td>\n",
       "      <td>NaN</td>\n",
       "    </tr>\n",
       "    <tr>\n",
       "      <th>98.0</th>\n",
       "      <td>NaN</td>\n",
       "      <td>NaN</td>\n",
       "      <td>NaN</td>\n",
       "      <td>NaN</td>\n",
       "      <td>NaN</td>\n",
       "    </tr>\n",
       "    <tr>\n",
       "      <th>99.0</th>\n",
       "      <td>2130.212883</td>\n",
       "      <td>3254.928365</td>\n",
       "      <td>8904.264852</td>\n",
       "      <td>429.744641</td>\n",
       "      <td>1579.074405</td>\n",
       "    </tr>\n",
       "  </tbody>\n",
       "</table>\n",
       "</div>"
      ],
      "text/plain": [
       "neighborhood        Highland Park  Squirrel Hill South  Squirrel Hill North  \\\n",
       "growth_space_width                                                            \n",
       "0.0                  18498.018730         28675.606183          2784.862106   \n",
       "1.0                     15.044745            65.473999            47.308968   \n",
       "2.0                   1230.356052          3985.649130          1675.140259   \n",
       "3.0                   4867.267667          5054.114380          5497.782479   \n",
       "3.5                           NaN                  NaN                  NaN   \n",
       "4.0                    745.595768          3290.711515          2180.908188   \n",
       "4.5                      3.338589             0.069626                  NaN   \n",
       "5.0                    220.934435           431.295003          1040.451469   \n",
       "6.0                           NaN          1479.682983           946.565975   \n",
       "7.0                      6.644940            23.889225            26.605772   \n",
       "8.0                           NaN            17.577143                  NaN   \n",
       "9.0                           NaN                  NaN                  NaN   \n",
       "10.0                    59.178514            34.546808             0.637357   \n",
       "10.5                          NaN                  NaN                  NaN   \n",
       "11.0                          NaN                  NaN                  NaN   \n",
       "12.0                          NaN             2.002897            22.801846   \n",
       "13.0                          NaN                  NaN                  NaN   \n",
       "14.0                          NaN                  NaN                  NaN   \n",
       "15.0                          NaN            29.517699             3.062005   \n",
       "16.0                          NaN                  NaN                  NaN   \n",
       "18.0                          NaN                  NaN             2.369187   \n",
       "19.0                          NaN                  NaN                  NaN   \n",
       "20.0                          NaN                  NaN             6.333261   \n",
       "22.0                          NaN                  NaN                  NaN   \n",
       "23.0                          NaN             4.295600                  NaN   \n",
       "25.0                          NaN                  NaN                  NaN   \n",
       "27.0                          NaN             1.585198                  NaN   \n",
       "30.0                          NaN                  NaN                  NaN   \n",
       "33.0                          NaN                  NaN                  NaN   \n",
       "35.0                          NaN                  NaN                  NaN   \n",
       "40.0                          NaN                  NaN                  NaN   \n",
       "45.0                          NaN                  NaN                  NaN   \n",
       "50.0                          NaN                  NaN            42.890161   \n",
       "60.0                          NaN                  NaN                  NaN   \n",
       "70.0                          NaN                  NaN                  NaN   \n",
       "75.0                          NaN                  NaN                  NaN   \n",
       "98.0                          NaN                  NaN                  NaN   \n",
       "99.0                  2130.212883          3254.928365          8904.264852   \n",
       "\n",
       "neighborhood        South Side Flats    Shadyside  \n",
       "growth_space_width                                 \n",
       "0.0                              NaN    10.877266  \n",
       "1.0                       116.597064    83.824717  \n",
       "2.0                      1202.853882   940.246875  \n",
       "3.0                      2011.145085  3663.326159  \n",
       "3.5                         0.151352          NaN  \n",
       "4.0                       342.340811  1717.491672  \n",
       "4.5                              NaN          NaN  \n",
       "5.0                       436.804222   508.960512  \n",
       "6.0                        39.983088    68.516785  \n",
       "7.0                        78.813362   403.489054  \n",
       "8.0                       189.875303   122.360795  \n",
       "9.0                         0.261196          NaN  \n",
       "10.0                      205.453271    54.194380  \n",
       "10.5                             NaN          NaN  \n",
       "11.0                        1.312269          NaN  \n",
       "12.0                       75.220321    36.092481  \n",
       "13.0                             NaN          NaN  \n",
       "14.0                       31.189138          NaN  \n",
       "15.0                       38.057380   491.559709  \n",
       "16.0                             NaN          NaN  \n",
       "18.0                             NaN     6.269007  \n",
       "19.0                             NaN    11.029199  \n",
       "20.0                             NaN    27.559066  \n",
       "22.0                             NaN    11.457438  \n",
       "23.0                             NaN          NaN  \n",
       "25.0                             NaN    24.417167  \n",
       "27.0                             NaN          NaN  \n",
       "30.0                             NaN    16.197529  \n",
       "33.0                             NaN          NaN  \n",
       "35.0                             NaN          NaN  \n",
       "40.0                             NaN    56.071990  \n",
       "45.0                             NaN          NaN  \n",
       "50.0                             NaN          NaN  \n",
       "60.0                             NaN          NaN  \n",
       "70.0                             NaN    25.782054  \n",
       "75.0                             NaN          NaN  \n",
       "98.0                             NaN          NaN  \n",
       "99.0                      429.744641  1579.074405  "
      ]
     },
     "execution_count": 154,
     "metadata": {},
     "output_type": "execute_result"
    }
   ],
   "source": [
    "top5trees = trees_grouped[['Highland Park','Squirrel Hill South', 'Squirrel Hill North', 'South Side Flats', 'Shadyside']]\n",
    "top5trees"
   ]
  },
  {
   "cell_type": "markdown",
   "id": "cab39f6f-9af1-4490-a0d3-6fe628f9c5b3",
   "metadata": {},
   "source": [
    "## Step 4: Graph time!!"
   ]
  },
  {
   "cell_type": "code",
   "execution_count": 155,
   "id": "99e5c72e-ea48-4983-b6dc-2454fd19b359",
   "metadata": {},
   "outputs": [
    {
     "data": {
      "text/plain": [
       "<Axes: xlabel='growth_space_width'>"
      ]
     },
     "execution_count": 155,
     "metadata": {},
     "output_type": "execute_result"
    },
    {
     "data": {
      "image/png": "[encoded data removed]",
      "text/plain": [
       "<Figure size 640x480 with 1 Axes>"
      ]
     },
     "metadata": {},
     "output_type": "display_data"
    }
   ],
   "source": [
    "top5trees.plot()"
   ]
  },
  {
   "cell_type": "markdown",
   "id": "4cc288da-37be-42e0-8be0-9d0e9960651e",
   "metadata": {},
   "source": [
    "Woah!! Cool graph but it is hard to tell what is happening because it is so zoomed out and there are no labels on the axies. \n",
    "\n",
    "## Step 5: Make it make sense\n",
    "Add labels and edit the x and y axis limits to make the trends the graph is showing more clear"
   ]
  },
  {
   "cell_type": "code",
   "execution_count": 159,
   "id": "ff9c7dee-04c1-4559-94b8-731468a14f06",
   "metadata": {},
   "outputs": [
    {
     "data": {
      "text/plain": [
       "<Axes: title={'center': 'Tree Space Width vs Air Quality Benifits in Top 5 Tree Populated neighborhoods'}, xlabel='Tree Space Width (ft)', ylabel='Air Quality Benifits ($)'>"
      ]
     },
     "execution_count": 159,
     "metadata": {},
     "output_type": "execute_result"
    },
    {
     "data": {
      "image/png": "[encoded data removed]",
      "text/plain": [
       "<Figure size 640x480 with 1 Axes>"
      ]
     },
     "metadata": {},
     "output_type": "display_data"
    }
   ],
   "source": [
    "top5trees.plot(title = 'Tree Space Width vs Air Quality Benifits in Top 5 Tree Populated neighborhoods', \n",
    "               xlabel = 'Tree Space Width (ft)', ylabel = 'Air Quality Benifits ($)',\n",
    "               xlim = [0,20], ylim = [0,8000])"
   ]
  },
  {
   "cell_type": "markdown",
   "id": "150486b6-e21a-468d-b7cf-3adc4f2e7177",
   "metadata": {},
   "source": [
    "From this graph, we can see that most trees take up 0 to 7.5 ft of space in width. We can also see that the most cost and space-efficient trees take up between 0.5 ft to 2.5 ft of space. "
   ]
  },
  {
   "cell_type": "markdown",
   "id": "5bbdf7d9-ae4e-46fc-ba01-66ec71c536dc",
   "metadata": {},
   "source": [
    "## Now try it on your own graph!\n",
    "Try this out and if you find you need to express your information in another form like a bar or scatter plot check out the plot functions on the pandas functions website we looked at last week!\n",
    "\n",
    "If your data is still not represented well by these graphs then hold on for next week where we will check out seaborn graphs!"
   ]
  }
 ],
 "metadata": {
  "kernelspec": {
   "display_name": "Python 3 (ipykernel)",
   "language": "python",
   "name": "python3"
  },
  "language_info": {
   "codemirror_mode": {
    "name": "ipython",
    "version": 3
   },
   "file_extension": ".py",
   "mimetype": "text/x-python",
   "name": "python",
   "nbconvert_exporter": "python",
   "pygments_lexer": "ipython3",
   "version": "3.11.10"
  }
 },
 "nbformat": 4,
 "nbformat_minor": 5
}
